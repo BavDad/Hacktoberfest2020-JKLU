{
 "cells": [
  {
   "cell_type": "code",
   "execution_count": null,
   "metadata": {},
   "outputs": [],
   "source": [
    "a=int(input(\"Enter lowest number \"))\n",
    "b=int(input(\"Enter largest number \"))\n",
    "c=int(input(\"Enter number from which you have to divide \"))\n",
    "count=0\n",
    "for i in range(a,b):\n",
    "    d=1\n",
    "    while(d>0):\n",
    "        d=d-1\n",
    "        if(i%c==0):\n",
    "            count=count+1\n",
    "print(count,\"numbers are divisible by\",c)"
   ]
  }
 ],
 "metadata": {
  "kernelspec": {
   "display_name": "Python 3",
   "language": "python",
   "name": "python3"
  },
  "language_info": {
   "codemirror_mode": {
    "name": "ipython",
    "version": 3
   },
   "file_extension": ".py",
   "mimetype": "text/x-python",
   "name": "python",
   "nbconvert_exporter": "python",
   "pygments_lexer": "ipython3",
   "version": "3.7.3"
  }
 },
 "nbformat": 4,
 "nbformat_minor": 2
}
