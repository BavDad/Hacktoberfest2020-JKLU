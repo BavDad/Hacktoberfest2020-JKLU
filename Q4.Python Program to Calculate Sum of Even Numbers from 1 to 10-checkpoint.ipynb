{
 "cells": [
  {
   "cell_type": "code",
   "execution_count": 1,
   "metadata": {},
   "outputs": [
    {
     "name": "stdout",
     "output_type": "stream",
     "text": [
      " Please Enter the Maximum Value : 10\n",
      "2\n",
      "4\n",
      "6\n",
      "8\n",
      "10\n",
      "The Sum of Even Numbers from 1 to 10 = 30\n"
     ]
    }
   ],
   "source": [
    "# Python Program to Calculate Sum of Even Numbers from 1 to 10\n",
    " \n",
    "maximum = int(input(\" Please Enter the Maximum Value : \"))\n",
    "total = 0\n",
    "\n",
    "for number in range(1, maximum+1):\n",
    "    if(number % 2 == 0):\n",
    "        print(\"{0}\".format(number))\n",
    "        total = total + number\n",
    "\n",
    "print(\"The Sum of Even Numbers from 1 to {0} = {1}\".format(number, total))"
   ]
  },
  {
   "cell_type": "code",
   "execution_count": 7,
   "metadata": {},
   "outputs": [
    {
     "name": "stdout",
     "output_type": "stream",
     "text": [
      "Please Enter the Maximum Value :10\n",
      "2\n",
      "4\n",
      "6\n",
      "8\n",
      "10\n",
      "The Sum of Even Numbers from 1 to 10 = 30\n"
     ]
    }
   ],
   "source": [
    "#write a python program to calculate the sum of even numbers from 1 to 10\n",
    "\n",
    "m = int(input(\"Please Enter the Maximum Value :\"))\n",
    "total = 0\n",
    "\n",
    "for i in range (1,m+1):\n",
    "    if(i%2==0):\n",
    "        print(\"{0}\".format(i))\n",
    "        total=total+i\n",
    "        \n",
    "print(\"The Sum of Even Numbers from 1 to {0} = {1}\".format(i, total))"
   ]
  }
 ],
 "metadata": {
  "kernelspec": {
   "display_name": "Python 3",
   "language": "python",
   "name": "python3"
  },
  "language_info": {
   "codemirror_mode": {
    "name": "ipython",
    "version": 3
   },
   "file_extension": ".py",
   "mimetype": "text/x-python",
   "name": "python",
   "nbconvert_exporter": "python",
   "pygments_lexer": "ipython3",
   "version": "3.7.3"
  }
 },
 "nbformat": 4,
 "nbformat_minor": 2
}
